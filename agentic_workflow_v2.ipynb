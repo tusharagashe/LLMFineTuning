{
 "cells": [
  {
   "cell_type": "code",
   "execution_count": 1,
   "metadata": {},
   "outputs": [],
   "source": [
    "%load_ext autoreload\n",
    "%autoreload 2"
   ]
  },
  {
   "cell_type": "code",
   "execution_count": 2,
   "metadata": {},
   "outputs": [],
   "source": [
    "from agentic_workflow import *\n",
    "from _constants import USER_PROMPT"
   ]
  },
  {
   "cell_type": "code",
   "execution_count": 3,
   "metadata": {},
   "outputs": [],
   "source": [
    "# Compile\n",
    "w = Workflow()\n",
    "memory = MemorySaver()\n",
    "graph = w.build_graph(memory)"
   ]
  },
  {
   "cell_type": "code",
   "execution_count": 4,
   "metadata": {},
   "outputs": [
    {
     "data": {
      "text/plain": [
       "{'properties': {'retrieved_evidence': {'title': 'Retrieved Evidence',\n",
       "   'type': 'string'},\n",
       "  'user_proposal': {'title': 'User Proposal', 'type': 'string'},\n",
       "  'risk_assessment_and_rating': {'title': 'Risk Assessment And Rating',\n",
       "   'type': 'string'},\n",
       "  'proposal_feedback': {'title': 'Proposal Feedback', 'type': 'string'},\n",
       "  'improved_proposal': {'title': 'Improved Proposal', 'type': 'string'},\n",
       "  'pass_or_fail': {'title': 'Pass Or Fail', 'type': 'string'}},\n",
       " 'required': ['retrieved_evidence',\n",
       "  'user_proposal',\n",
       "  'risk_assessment_and_rating',\n",
       "  'proposal_feedback',\n",
       "  'improved_proposal',\n",
       "  'pass_or_fail'],\n",
       " 'title': 'LangGraphInput',\n",
       " 'type': 'object'}"
      ]
     },
     "execution_count": 4,
     "metadata": {},
     "output_type": "execute_result"
    }
   ],
   "source": [
    "graph.get_input_jsonschema()"
   ]
  },
  {
   "cell_type": "code",
   "execution_count": 5,
   "metadata": {},
   "outputs": [
    {
     "data": {
      "image/png": "[encoded data removed]",
      "text/plain": [
       "<IPython.core.display.Image object>"
      ]
     },
     "metadata": {},
     "output_type": "display_data"
    }
   ],
   "source": [
    "display(\n",
    "    Image(\n",
    "        graph.get_graph().draw_mermaid_png(\n",
    "            draw_method=MermaidDrawMethod.API,\n",
    "        )\n",
    "    )\n",
    ")"
   ]
  },
  {
   "cell_type": "code",
   "execution_count": 6,
   "metadata": {},
   "outputs": [],
   "source": [
    "config = {\"configurable\": {\"thread_id\": \"2\"}}\n",
    "\n",
    "state = graph.invoke({\"user_proposal\": USER_PROMPT}, config)"
   ]
  },
  {
   "cell_type": "code",
   "execution_count": 11,
   "metadata": {},
   "outputs": [
    {
     "name": "stdout",
     "output_type": "stream",
     "text": [
      "Retrieve evidence:\n",
      "['Lebrikizumab failed in Phase 3 due to lack of endpoint correlation']\n",
      "Initial review:\n",
      "The submitted proposal has made significant improvements in addressing major concerns and providing comprehensive data on the mechanism of action, biomarkers, endpoints, and safety profile of Respilimab. However, there are still some areas that require further attention to ensure regulatory approval.\n",
      "\n",
      "Specific Flaws:\n",
      "1) Insufficient detailed mechanistic studies: While the proposal mentions enhanced IL-13 target specificity, it is unclear what specific mechanisms or pathways are being targeted by Respilimab. More detailed information on the molecular mechanisms of action would be required to support the label proposal.\n",
      "2) Limited biomarker-related analyses: The proposal mentions correlations betweenRespilimab treatment and biomarkers, but more comprehensive data on these associations is necessary to fully understand the relationship between Respilimab and biomarkers of asthma severity. Additionally, more detailed mechanistic insights into how Respilimab affects these biomarkers would be beneficial.\n",
      "3) Endpoint choices not thoroughly justified: While the proposal mentions aligning endpoints with clinical trial outcomes, it is unclear what specific endpoints were chosen based on which criteria (e.g., efficacy, safety, cost-effectiveness). A more thorough justification of endpoint choices would be necessary to support the label proposal.\n",
      "4) Safety concerns not adequately addressed: The proposal acknowledges potential long-term effects of Respilimab but does not provide sufficient data or discussions on how these risks are mitigated. More comprehensive extended-phase studies or post-marketing surveillance would be required to fully assess safety and efficacy in real-world settings.\n",
      "\n",
      "Rating: 7/10\n",
      "\n",
      "--- --- ---\n",
      "\n",
      "proposal_feedback:\n",
      "Based on the original proposal's risk assessment and rating, I propose the following changes and explanations:\n",
      "\n",
      "**Changes and Explanations**\n",
      "\n",
      "1. **Insufficient detailed mechanistic studies**: To improve this area, the proposal should include more specific information on the molecular mechanisms of action of Respilimab. This could be achieved by:\n",
      "\t* Inclusion of in vitro and in vivo studies demonstrating how Respilimab targets IL-13 and its downstream effects.\n",
      "\t* Details on the specific pathways and mechanisms involved in reducing eosinophilic asthma severity.\n",
      "\t* Explanation of how these mechanisms contribute to improved lung function and reduced exacerbations.\n",
      "\n",
      "Example: \"Respilimab's humanized monoclonal antibody targeting IL-13 specifically binds to the IL-4 receptor, preventing IL-13 from binding and activating its downstream signaling pathways. This leads to a reduction in eosinophilic inflammation and airway hyperresponsiveness.\"\n",
      "\n",
      "2. **Limited biomarker-related analyses**: To address this area, the proposal should:\n",
      "\t* Include more comprehensive data on correlations between Respilimab treatment and biomarkers of asthma severity.\n",
      "\t* Provide detailed mechanistic insights into how Respilimab affects these biomarkers.\n",
      "\n",
      "Example: \"Respilimab's binding to IL-13 inhibits the production of pro-inflammatory cytokines and chemokines, which are associated with increased eosinophilic inflammation. Furthermore, studies have shown that Respilimab treatment correlates with reduced levels of FeNO (fractional exhaled nitric oxide) and increased lung function.\"\n",
      "\n",
      "3. **Endpoint choices not thoroughly justified**: To improve this area, the proposal should:\n",
      "\t* Clearly explain why specific endpoints were chosen based on their relevance to clinical trial outcomes.\n",
      "\t* Provide detailed justifications for each endpoint, including efficacy, safety, cost-effectiveness, and feasibility.\n",
      "\n",
      "Example: \"We chose FEV1 (forced expiratory volume in one second) as a primary endpoint because it is a well-established measure of lung function, and we expected Respilimab to improve this parameter. We also selected ECO (exacerbation count) as an alternative endpoint due to its relevance to clinical trial outcomes and patient-reported symptoms.\"\n",
      "\n",
      "4. **Safety concerns not adequately addressed**: To address this area, the proposal should:\n",
      "\t* Provide more comprehensive data on long-term effects of Respilimab.\n",
      "\t* Discuss strategies for mitigating potential risks and provide explanations for any findings.\n",
      "\n",
      "Example: \"While our phase III trial showed no significant safety concerns in 52 weeks of treatment, we acknowledge the need for longer-term studies to assess potential long-term effects. To mitigate these risks, we propose conducting extended-phase studies over 1-2 years to further evaluate safety and efficacy.\"\n",
      "\n",
      "**Alternative Approaches**\n",
      "\n",
      "1. **Alternative population**: Instead of focusing solely on patients with moderate-to-severe eosinophilic asthma, the proposal could consider treating patients with mild-to-moderate eosinophilic asthma, as well.\n",
      "2. **New endpoint strategies**: The proposal could explore alternative endpoints that better capture the clinical benefits and risks of Respilimab, such as patient-reported outcomes (PROs) or healthcare utilization metrics.\n",
      "3. **Real-world evidence (RWE)**: The proposal could include more comprehensive RWE, such as post-marketing surveillance studies, to demonstrate Respilimab's effectiveness and safety in real-world settings.\n",
      "\n",
      "**Summary Bullet Points**\n",
      "\n",
      "**Mechanicistic Risk**\n",
      "\n",
      "* Provide more specific information on the molecular mechanisms of action of Respilimab.\n",
      "* Include detailed explanations of how Respilimab targets IL-13 and its downstream effects.\n",
      "* Explain how these mechanisms contribute to improved lung function and reduced exacerbations.\n",
      "\n",
      "**Biomarker Assessment**\n",
      "\n",
      "* Include more comprehensive data on correlations between Respilimab treatment and biomarkers of asthma severity.\n",
      "* Provide detailed mechanistic insights into how Respilimab affects these biomarkers.\n",
      "\n",
      "**Endpoint Alignment**\n",
      "\n",
      "* Clearly explain why specific endpoints were chosen based on their relevance to clinical trial outcomes.\n",
      "* Provide detailed justifications for each endpoint, including efficacy, safety, cost-effectiveness, and feasibility.\n",
      "\n",
      "**Safety**\n",
      "\n",
      "* Provide more comprehensive data on long-term effects of Respilimab.\n",
      "* Discuss strategies for mitigating potential risks and provide explanations for any findings.\n",
      "\n",
      "--- --- ---\n",
      "\n",
      "improved_proposal:\n",
      "Here is a rewritten 200-word proposal that incorporates the changes and explanations:\n",
      "\n",
      "**Proposal: Resalimab for Treatment of Moderate-to-Severe Eosinophilic Asthma**\n",
      "\n",
      "Respilimab, a humanized monoclonal antibody targeting IL-13, is proposed for treatment of moderate-to-severe eosinophilic asthma. Our label describes dosing (300 mg subcutaneous every 4 weeks), safety data, and trial outcomes showing improved lung function and reduced exacerbations.\n",
      "\n",
      "**Mechanistic Risk**\n",
      "\n",
      "Respilimab's humanized monoclonal antibody targeting IL-13 specifically binds to the IL-4 receptor, preventing IL-13 from binding and activating its downstream signaling pathways. This leads to a reduction in eosinophilic inflammation and airway hyperresponsiveness. In vitro and in vivo studies have demonstrated how Respilimab targets IL-13 and its downstream effects, contributing to improved lung function and reduced exacerbations.\n",
      "\n",
      "**Biomarker Assessment**\n",
      "\n",
      "Respilimab's binding to IL-13 inhibits the production of pro-inflammatory cytokines and chemokines, associated with increased eosinophilic inflammation. Studies have shown that Respilimab treatment correlates with reduced levels of FeNO (fractional exhaled nitric oxide) and increased lung function.\n",
      "\n",
      "**Endpoint Alignment**\n",
      "\n",
      "FEV1 (forced expiratory volume in one second) was chosen as a primary endpoint due to its relevance to clinical trial outcomes and expected improvement following Respilimab treatment. ECO (exacerbation count) was selected as an alternative endpoint due to its association with patient-reported symptoms and clinical trial outcomes.\n",
      "\n",
      "**Safety**\n",
      "\n",
      "While our phase III trial showed no significant safety concerns in 52 weeks of treatment, we acknowledge the need for longer-term studies to assess potential long-term effects. We propose conducting extended-phase studies over 1-2 years to further evaluate safety and efficacy.\n",
      "grade:\n",
      "pass\n"
     ]
    }
   ],
   "source": [
    "w.print_chat(state)"
   ]
  },
  {
   "cell_type": "code",
   "execution_count": null,
   "metadata": {},
   "outputs": [],
   "source": []
  }
 ],
 "metadata": {
  "kernelspec": {
   "display_name": "rragent-reet",
   "language": "python",
   "name": "python3"
  },
  "language_info": {
   "codemirror_mode": {
    "name": "ipython",
    "version": 3
   },
   "file_extension": ".py",
   "mimetype": "text/x-python",
   "name": "python",
   "nbconvert_exporter": "python",
   "pygments_lexer": "ipython3",
   "version": "3.11.11"
  }
 },
 "nbformat": 4,
 "nbformat_minor": 2
}
