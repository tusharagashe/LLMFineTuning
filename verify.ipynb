{
 "cells": [
  {
   "cell_type": "code",
   "execution_count": null,
   "id": "95ff2b85",
   "metadata": {},
   "outputs": [
    {
     "name": "stdout",
     "output_type": "stream",
     "text": [
      "['risk_chunks', 'sba_1c_database_chunks']\n"
     ]
    }
   ],
   "source": [
    "from pymilvus import MilvusClient\n",
    "client = MilvusClient(uri=\"db/sba_1c_database_milvus.db\", local=True)\n",
    "print(client.list_collections())"
   ]
  },
  {
   "cell_type": "code",
   "execution_count": 3,
   "id": "6a95cdbf",
   "metadata": {},
   "outputs": [
    {
     "name": "stdout",
     "output_type": "stream",
     "text": [
      "['risk_chunks', 'tanezumab_chunks']\n"
     ]
    }
   ],
   "source": [
    "from pymilvus import MilvusClient\n",
    "client = MilvusClient(uri=\"db/tanezumab_milvus.db\", local=True)\n",
    "print(client.list_collections())"
   ]
  },
  {
   "cell_type": "code",
   "execution_count": 4,
   "id": "2e4812b3",
   "metadata": {},
   "outputs": [
    {
     "name": "stdout",
     "output_type": "stream",
     "text": [
      "<bound method MilvusClient.list_databases of <pymilvus.milvus_client.milvus_client.MilvusClient object at 0x128529790>>\n"
     ]
    }
   ],
   "source": [
    "from pymilvus import MilvusClient\n",
    "client = MilvusClient(uri=\"data/NCT02709486_failed_simple.db\", local=True)\n",
    "print(client.list_databases)"
   ]
  },
  {
   "cell_type": "code",
   "execution_count": 5,
   "id": "febba85e",
   "metadata": {},
   "outputs": [],
   "source": [
    "import sqlite3\n",
    "\n",
    "def checking_sqlite(sqlite_path):\n",
    "    conn = sqlite3.connect(sqlite_path)\n",
    "    cur = conn.cursor()\n",
    "    # find user tables\n",
    "    cur.execute(\n",
    "        \"SELECT name FROM sqlite_master WHERE type='table' AND name NOT LIKE 'sqlite_%';\"\n",
    "    )\n",
    "    tables = [r[0] for r in cur.fetchall()]\n",
    "    if not tables:\n",
    "        raise RuntimeError(\"No user tables found in SQLite DB\")\n",
    "    table = tables[0]\n",
    "    cur.execute(f\"PRAGMA table_info({table});\")\n",
    "    cols = cur.fetchall()  # (cid, name, type, notnull, dflt, pk)\n",
    "    conn.close()\n",
    "\n",
    "    # id column: pk or first integer\n",
    "    id_col = next(\n",
    "        (n for (_, n, t, _, _, pk) in cols if pk == 1),\n",
    "        next((n for (_, n, t, _, _, _) in cols if \"INT\" in t.upper()), cols[0][1])\n",
    "    )\n",
    "    # text column: first TEXT-like\n",
    "    text_col = next(\n",
    "        (n for (_, n, t, _, _, _) in cols\n",
    "         if any(x in t.upper() for x in (\"CHAR\", \"CLOB\", \"TEXT\"))),\n",
    "        None\n",
    "    )\n",
    "    if not text_col:\n",
    "        raise RuntimeError(\"No TEXT column found.\")\n",
    "    # metadata = all others\n",
    "    meta_cols = [n for (_, n, _, _, _, _) in cols if n not in (id_col, text_col)]\n",
    "    return table, id_col, text_col, meta_cols\n"
   ]
  },
  {
   "cell_type": "code",
   "execution_count": 7,
   "id": "10dcad58",
   "metadata": {},
   "outputs": [
    {
     "data": {
      "text/plain": [
       "('elements',\n",
       " 'is_continuation',\n",
       " 'type',\n",
       " ['element_id',\n",
       "  'text',\n",
       "  'text_as_html',\n",
       "  'languages',\n",
       "  'filename',\n",
       "  'filetype',\n",
       "  'data_source'])"
      ]
     },
     "execution_count": 7,
     "metadata": {},
     "output_type": "execute_result"
    }
   ],
   "source": [
    "checking_sqlite(\"data/NCT02709486_failed_simple.db\")"
   ]
  },
  {
   "cell_type": "code",
   "execution_count": null,
   "id": "e2fba452",
   "metadata": {},
   "outputs": [],
   "source": []
  }
 ],
 "metadata": {
  "kernelspec": {
   "display_name": "llmfinetuning",
   "language": "python",
   "name": "python3"
  },
  "language_info": {
   "codemirror_mode": {
    "name": "ipython",
    "version": 3
   },
   "file_extension": ".py",
   "mimetype": "text/x-python",
   "name": "python",
   "nbconvert_exporter": "python",
   "pygments_lexer": "ipython3",
   "version": "3.11.0"
  }
 },
 "nbformat": 4,
 "nbformat_minor": 5
}
