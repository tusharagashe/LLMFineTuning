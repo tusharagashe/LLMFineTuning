{
 "cells": [
  {
   "cell_type": "code",
   "execution_count": 1,
   "metadata": {},
   "outputs": [],
   "source": [
    "from IPython.display import Image, display\n",
    "from langgraph.graph import END, START, StateGraph\n",
    "from typing_extensions import TypedDict\n",
    "from _constants import LLM_CONFIGS\n",
    "from langchain_ollama import ChatOllama\n",
    "from langchain_core.messages import HumanMessage, SystemMessage\n",
    "from pydantic import BaseModel, Field\n",
    "from typing_extensions import Literal\n",
    "from langchain_core.runnables import RunnableConfig\n",
    "\n",
    "from langgraph.checkpoint.memory import MemorySaver\n"
   ]
  },
  {
   "cell_type": "markdown",
   "metadata": {},
   "source": [
    "# Example - Prompt Chaining"
   ]
  },
  {
   "cell_type": "code",
   "execution_count": 2,
   "metadata": {},
   "outputs": [],
   "source": [
    "# Graph state\n",
    "class State(TypedDict):\n",
    "    topic: str\n",
    "    joke: str\n",
    "    improved_joke: str\n",
    "    final_joke: str"
   ]
  },
  {
   "cell_type": "code",
   "execution_count": 3,
   "metadata": {},
   "outputs": [],
   "source": [
    "llm = ChatOllama(\n",
    "    model=LLM_CONFIGS[\"llama3.2\"][\"model\"]\n",
    ")"
   ]
  },
  {
   "cell_type": "code",
   "execution_count": 4,
   "metadata": {},
   "outputs": [
    {
     "data": {
      "image/png": "[encoded data removed]",
      "text/plain": [
       "<IPython.core.display.Image object>"
      ]
     },
     "metadata": {},
     "output_type": "display_data"
    }
   ],
   "source": [
    "# Nodes\n",
    "def generate_joke(state: State):\n",
    "    \"\"\"First LLM call to generate initial joke\"\"\"\n",
    "\n",
    "    msg = llm.invoke(f\"Write a short joke about {state['topic']}\")\n",
    "    return {\"joke\": msg.content}\n",
    "\n",
    "\n",
    "def check_punchline(state: State):\n",
    "    \"\"\"Gate function to check if the joke has a punchline\"\"\"\n",
    "\n",
    "    # Simple check - does the joke contain \"?\" or \"!\"\n",
    "    if \"?\" in state[\"joke\"] or \"!\" in state[\"joke\"]:\n",
    "        return \"Fail\"\n",
    "    return \"Pass\"\n",
    "\n",
    "\n",
    "def improve_joke(state: State):\n",
    "    \"\"\"Second LLM call to improve the joke\"\"\"\n",
    "\n",
    "    msg = llm.invoke(f\"Make this joke funnier by adding wordplay: {state['joke']}\")\n",
    "    return {\"improved_joke\": msg.content}\n",
    "\n",
    "\n",
    "def polish_joke(state: State):\n",
    "    \"\"\"Third LLM call for final polish\"\"\"\n",
    "\n",
    "    msg = llm.invoke(f\"Add a surprising twist to this joke: {state['improved_joke']}\")\n",
    "    return {\"final_joke\": msg.content}\n"
   ]
  },
  {
   "cell_type": "code",
   "execution_count": null,
   "metadata": {},
   "outputs": [],
   "source": [
    "# Build workflow\n",
    "workflow = StateGraph(State)\n",
    "\n",
    "# Add nodes\n",
    "workflow.add_node(\"generate_joke\", generate_joke)\n",
    "workflow.add_node(\"improve_joke\", improve_joke)\n",
    "workflow.add_node(\"polish_joke\", polish_joke)\n",
    "\n",
    "# Add edges to connect nodes\n",
    "workflow.add_edge(START, \"generate_joke\")\n",
    "workflow.add_conditional_edges(\n",
    "    \"generate_joke\", check_punchline, {\"Fail\": \"improve_joke\", \"Pass\": END}\n",
    ")\n",
    "workflow.add_edge(\"improve_joke\", \"polish_joke\")\n",
    "workflow.add_edge(\"polish_joke\", END)\n",
    "\n",
    "# Compile\n",
    "chain = workflow.compile()\n",
    "\n",
    "# Show workflow\n",
    "display(Image(chain.get_graph().draw_mermaid_png()))"
   ]
  },
  {
   "cell_type": "code",
   "execution_count": 5,
   "metadata": {},
   "outputs": [
    {
     "name": "stdout",
     "output_type": "stream",
     "text": [
      "Initial joke:\n",
      "Why did the cat join a band?\n",
      "\n",
      "Because it wanted to be the purr-cussionist.\n",
      "\n",
      "--- --- ---\n",
      "\n",
      "Improved joke:\n",
      "Here's an attempt at adding wordplay:\n",
      "\n",
      "Why did the cat join a band?\n",
      "\n",
      "Because it heard the drums were 'paw-some' and wanted to become the purr-cussionist – but little did it know, it was just the cat's meow on stage!\n",
      "\n",
      "In this version, I've added a few layers of wordplay:\n",
      "\n",
      "1. \"Paw-some\" is a play on the word \"awesome\" that incorporates the idea of a cat's paw.\n",
      "2. The phrase \"the cat's meow\" is an idiom that means something or someone is excellent or desirable, but in this context, it's also a clever pun on the fact that cats are known for their distinctive meowing sound.\n",
      "\n",
      "Let me know if you'd like me to try any further adjustments!\n",
      "\n",
      "--- --- ---\n",
      "\n",
      "Final joke:\n",
      "I love where you're going with this joke. Here's a suggestion for adding another layer of wordplay:\n",
      "\n",
      "Why did the cat join a band?\n",
      "\n",
      "Because it heard the drums were 'paw-some' and wanted to become the purr-cussionist – but little did it know, it was just the cat's meow on stage! And after all that fame, the cat's whiskers were ruffled by the attention.\n",
      "\n",
      "In this revised version:\n",
      "\n",
      "1. I've added a new layer of wordplay with \"ruffled by the attention,\" which is a play on words referencing both the cat's feathers (whiskers) and being emotionally stirred or flustered.\n",
      "2. This addition maintains the lighthearted tone while further exploring the comedic potential of the joke.\n",
      "\n",
      "Let me know if you'd like to experiment with other adjustments!\n"
     ]
    }
   ],
   "source": [
    "# Invoke\n",
    "state = chain.invoke({\"topic\": \"cats\"})\n",
    "print(\"Initial joke:\")\n",
    "print(state[\"joke\"])\n",
    "print(\"\\n--- --- ---\\n\")\n",
    "if \"improved_joke\" in state:\n",
    "    print(\"Improved joke:\")\n",
    "    print(state[\"improved_joke\"])\n",
    "    print(\"\\n--- --- ---\\n\")\n",
    "\n",
    "    print(\"Final joke:\")\n",
    "    print(state[\"final_joke\"])\n",
    "else:\n",
    "    print(\"Joke failed quality gate - no punchline detected!\")\n"
   ]
  },
  {
   "cell_type": "markdown",
   "metadata": {},
   "source": [
    "# Rough RRA Workflow - Prompt Chaining"
   ]
  },
  {
   "cell_type": "code",
   "execution_count": 12,
   "metadata": {},
   "outputs": [],
   "source": [
    "# memory = MemorySaver()"
   ]
  },
  {
   "cell_type": "code",
   "execution_count": 26,
   "metadata": {},
   "outputs": [],
   "source": [
    "# Graph state\n",
    "class State(TypedDict):\n",
    "    user_proposal: str\n",
    "    risk_assessment_and_rating: str\n",
    "    proposal_feedback: str\n",
    "    improved_proposal: str\n",
    "    pass_or_fail: str"
   ]
  },
  {
   "cell_type": "code",
   "execution_count": 27,
   "metadata": {},
   "outputs": [],
   "source": [
    "# Schema for structured output to use in evaluation\n",
    "class Feedback(BaseModel):\n",
    "    grade: Literal[\"pass\", \"fail\"] = Field(\n",
    "        description=\"Decide if the proposal passes and will be successful going through FDA review. If the rating is higher than 9 out of 10, then it passes, else it fails.\",\n",
    "    )\n",
    "    feedback: str = Field(\n",
    "        description=\"If the proposal fails, provide the current rating and risk assessment to improve.\",\n",
    "    )\n"
   ]
  },
  {
   "cell_type": "code",
   "execution_count": 28,
   "metadata": {},
   "outputs": [],
   "source": [
    "llm = ChatOllama(\n",
    "    model=LLM_CONFIGS[\"llama3.2\"][\"model\"]\n",
    ")\n",
    "evaluator = llm.with_structured_output(Feedback)"
   ]
  },
  {
   "cell_type": "code",
   "execution_count": 23,
   "metadata": {},
   "outputs": [],
   "source": [
    "# # Schema for structured output to use as routing logic\n",
    "# class Route(BaseModel):\n",
    "#     step: Literal[\"poem\", \"story\", \"joke\"] = Field(\n",
    "#         None, description=\"The next step in the routing process\"\n",
    "#     )"
   ]
  },
  {
   "cell_type": "code",
   "execution_count": 24,
   "metadata": {},
   "outputs": [],
   "source": [
    "# router = llm.with_structured_output(Route)\n"
   ]
  },
  {
   "cell_type": "code",
   "execution_count": 25,
   "metadata": {},
   "outputs": [],
   "source": [
    "# def get_results_from_vector_db():\n",
    "#     return \"result1, result2, result3\"\n",
    "\n",
    "# def get_results_from_clinicaltrials_api():\n",
    "#     return \"trial1, trial2, trial3\""
   ]
  },
  {
   "cell_type": "code",
   "execution_count": 5,
   "metadata": {},
   "outputs": [],
   "source": [
    "# Nodes\n",
    "def risk_assessment(state: State, config: RunnableConfig):\n",
    "    \"\"\"First LLM call to provide a risk assessment of the user proposal\"\"\"\n",
    "    risk_assessment_system_message = \"You are a FDA regulatory reviewer. Provide a risk \\\n",
    "                    assessment of the user submission and detail specific flaws in the application\\\n",
    "                        that would not pass regulatory approval. Provide an overall summary and a rating \\\n",
    "                            from 1 to 10.\"\n",
    "\n",
    "    if state.get(\"improved_proposal\"):\n",
    "        grade = evaluator.invoke(\n",
    "            [\n",
    "                SystemMessage(content= risk_assessment_system_message),\n",
    "                HumanMessage(content=f\"Review this proposal, provide a rating, and grade the proposal: {state['improved_proposal']} but take into account the feedback: {state['proposal_feedback']}\")\n",
    "            ],\n",
    "            config\n",
    "        )\n",
    "    #else:\n",
    "    #    msg = llm.invoke(f\"Write a joke about {state['topic']}\")\n",
    "    #return {\"joke\": msg.content}\n",
    "    else:\n",
    "        grade = evaluator.invoke(\n",
    "            [\n",
    "                SystemMessage(content= risk_assessment_system_message),\n",
    "                HumanMessage(content=f\"Review this proposal, provide a rating, and grade the proposal: {state['user_proposal']}\")\n",
    "            ],\n",
    "            config\n",
    "        )\n",
    "    \n",
    "    return {\"risk_assessment_and_rating\": grade.feedback, \"pass_or_fail\":grade.grade}\n",
    "\n",
    "\n",
    "# need to be removed? part of evaluator\n",
    "def check_rating(state: State):\n",
    "    \"\"\"Gate function to check if the risk rating is = 5 out of 10\"\"\"\n",
    "\n",
    "    # Simple check - does the joke contain \"?\" or \"!\"\n",
    "    if \"5\" in state[\"risk_assessment_and_rating\"]:\n",
    "        return \"Fail\"\n",
    "    return \"Pass\"\n",
    "\n",
    "\n",
    "def regulatory_risk_critquer(state: State, config: RunnableConfig):\n",
    "    \"\"\"Second LLM call to provide specific feedback based on different categories of regulatory approval to improve the rating.\"\"\"\n",
    "\n",
    "    #msg = llm.invoke(f\"Make this joke funnier by adding wordplay: {state['joke']}\")\n",
    "    msg = llm.invoke(\n",
    "        [\n",
    "            SystemMessage(content=\"You are an expert regulatory critiquer. \\\n",
    "                            Given the risk assessment and rating, propose \\\n",
    "                                changes and explain why to make these changes to improve the original proposal.\\\n",
    "                                Also provide an alternative approach for how they can rework their proposal to a different population or other strategies you can think of for better success \\\n",
    "                                    Give the final result in bullet points summary for each of these categories. \\\n",
    "                                    1) Mechanistic Risk 2) Biomarker Asessment 3) Endpoint Alignment 4) Safety.\"),\n",
    "            HumanMessage(content=f\"Here is the original proposal: {state['user_proposal']}. Here is the risk assessment \\\n",
    "                and rating: {state['risk_assessment_and_rating']}\")\n",
    "        ],\n",
    "        config\n",
    "    )\n",
    "    return {\"proposal_feedback\": msg.content}\n",
    "\n",
    "\n",
    "def proposal_writer(state: State, config: RunnableConfig):\n",
    "    \"\"\"Third LLM call for writing a new proposal based on feedback.\"\"\"\n",
    "\n",
    "    #msg = llm.invoke(f\"Add a surprising twist to this joke: {state['improved_joke']}\")\n",
    "    msg = llm.invoke(\n",
    "        [\n",
    "            SystemMessage(content=\"You are an expert FDA regulatory writer. \\\n",
    "                            Given the feedback for approval, rewrite the original proposal with the appropriate changes. \\\n",
    "                                Provide a 200-word new proposal well-written incorporating the changes\"),\n",
    "            HumanMessage(content=f\"Here is the original proposal: {state['user_proposal']}. Here is the risk assessment \\\n",
    "                and rating: {state['risk_assessment_and_rating']}. Here is the proposal feedback: {state['proposal_feedback']}\")\n",
    "        ],\n",
    "        config\n",
    "    )\n",
    "    return {\"improved_proposal\": msg.content}\n",
    "\n",
    "# def llm_call_evaluator(state: State, config: RunnableConfig):\n",
    "#     \"\"\"LLM evaluates the proposal\"\"\"\n",
    "\n",
    "#     grade = evaluator.invoke(f\"Grade the proposal {state['improved_proposal']}\", config)\n",
    "#     return {\"pass_or_fail\": grade.grade, \"feedback\": grade.feedback}\n"
   ]
  },
  {
   "cell_type": "code",
   "execution_count": 29,
   "metadata": {},
   "outputs": [],
   "source": [
    "def route_proposal(state: State):\n",
    "    \"\"\"Route back to risk assessment agent or end based upon feedback from the evaluator\"\"\"\n",
    "\n",
    "    if state[\"pass_or_fail\"] == \"pass\":\n",
    "        return \"Accepted\"\n",
    "    elif state[\"pass_or_fail\"] == \"fail\":\n",
    "        return \"Rejected + Feedback\""
   ]
  },
  {
   "cell_type": "code",
   "execution_count": 21,
   "metadata": {},
   "outputs": [
    {
     "data": {
      "text/plain": [
       "<langgraph.graph.state.StateGraph at 0x10d150510>"
      ]
     },
     "execution_count": 21,
     "metadata": {},
     "output_type": "execute_result"
    }
   ],
   "source": [
    "# Build workflow\n",
    "workflow = StateGraph(State)\n",
    "\n",
    "# Add nodes\n",
    "workflow.add_node(\"risk_assessment\", risk_assessment)\n",
    "workflow.add_node(\"regulatory_risk_critquer\", regulatory_risk_critquer)\n",
    "workflow.add_node(\"proposal_writer\", proposal_writer)\n",
    "#workflow.add_node(\"llm_call_evaluator\", llm_call_evaluator)\n",
    "\n",
    "# Add edges to connect nodes\n",
    "workflow.add_edge(START, \"risk_assessment\")\n",
    "workflow.add_conditional_edges(\n",
    "    \"risk_assessment\", check_rating, {\"Fail\": \"regulatory_risk_critquer\", \"Pass\": END}\n",
    ")\n",
    "workflow.add_edge(\"regulatory_risk_critquer\", \"proposal_writer\")\n",
    "#workflow.add_edge(\"proposal_writer\", \"llm_call_evaluator\")\n",
    "workflow.add_conditional_edges(\n",
    "    \"proposal_writer\",\n",
    "    route_proposal,\n",
    "    {  # Name returned by route_proposal : Name of next node to visit\n",
    "        \"Accepted\": END,\n",
    "        \"Rejected + Feedback\": \"risk_assessment\",\n",
    "    },\n",
    ")\n",
    "\n"
   ]
  },
  {
   "cell_type": "code",
   "execution_count": 22,
   "metadata": {},
   "outputs": [
    {
     "data": {
      "image/png": "[encoded data removed]",
      "text/plain": [
       "<IPython.core.display.Image object>"
      ]
     },
     "metadata": {},
     "output_type": "display_data"
    }
   ],
   "source": [
    "# Compile\n",
    "memory = MemorySaver()\n",
    "chain = workflow.compile(checkpointer=memory)\n",
    "\n",
    "# Show workflow\n",
    "display(Image(chain.get_graph().draw_mermaid_png()))"
   ]
  },
  {
   "cell_type": "code",
   "execution_count": 23,
   "metadata": {},
   "outputs": [
    {
     "name": "stdout",
     "output_type": "stream",
     "text": [
      "{'thread_id': '1'}\n"
     ]
    }
   ],
   "source": [
    "# Invoke\n",
    "user_prompt = \"This proposed FDA label describes Respilimab, a humanized monoclonal antibody \\\n",
    "    targeting IL-13, for treatment of moderate-to-severe eosinophilic asthma. It outlines dosing \\\n",
    "        (300 mg subcutaneous every 4 weeks), safety data, and trial outcomes showing improved lung \\\n",
    "            function and reduced exacerbations, supporting use in patients uncontrolled on standard inhaled therapies.\"\n",
    "\n",
    "\n",
    "config = {\"configurable\": {\"thread_id\": \"1\"}}\n",
    "print(config['configurable'])\n",
    "#state = chain.invoke({\"user_proposal\": user_prompt}, config)\n",
    "\n"
   ]
  },
  {
   "cell_type": "code",
   "execution_count": 24,
   "metadata": {},
   "outputs": [],
   "source": [
    "state = chain.invoke({\"user_proposal\": user_prompt}, config)\n"
   ]
  },
  {
   "cell_type": "code",
   "execution_count": 19,
   "metadata": {},
   "outputs": [
    {
     "name": "stdout",
     "output_type": "stream",
     "text": [
      "{'risk_assessment': {'risk_assessment_and_rating': \"**Risk Assessment and Regulatory Flaws:**\\n\\n1. **Insufficient Clinical Trial Data:** The proposal mentions a single clinical trial with limited sample size (n=100) and duration (12 weeks). A larger, longer-term study with a diverse patient population is necessary to establish the efficacy and safety of Respilimab in treating moderate-to-severe eosinophilic asthma.\\n2. **Lack of Dosing Information:** The proposal does not provide clear dosing instructions for patients with renal impairment or hepatic disease. It is essential to specify alternative dosing regimens for these patient populations.\\n3. **Inadequate Safety Data:** The proposal only mentions the results from the primary clinical trial, which may not accurately reflect the full safety profile of Respilimab. Additional studies should be conducted to assess the drug's safety in patients with pre-existing medical conditions and during concurrent use with other medications.\\n4. **Unclear Mechanistic Studies:** There is no information provided on the mechanistic studies supporting the development of Respilimab as an IL-13 inhibitor for treating eosinophilic asthma. These studies should be included to provide a more comprehensive understanding of the drug's mechanism of action.\\n5. **Inadequate Comparison to Standard Therapies:** The proposal does not compare Respilimab to standard inhaled therapies, which would help establish its relative efficacy and safety profile.\\n\\n**Specific Flaws:**\\n\\n1. Section 4.2 (Contraindications): There is no clear statement on the contraindications for patients with a history of allergies or previous reactions to monoclonal antibodies.\\n2. Section 5.1 (Nonclinical Toxicity Studies): The proposal does not include any data from nonclinical studies, which are essential for assessing the drug's safety and toxicity profile.\\n\\n**Overall Summary:**\\n\\nThe proposal for Respilimab is lacking in several critical areas, including clinical trial design, dosing information, and mechanistic studies. Additionally, there is a need for more comprehensive safety data and comparisons to standard therapies. While the proposed label does provide some supportive trial outcomes, it is insufficient to establish regulatory approval.\\n\\n**Rating: 6/10**\\n\\nThe proposal has some strengths, such as the demonstration of improved lung function and reduced exacerbations in patients with moderate-to-severe eosinophilic asthma. However, the significant flaws identified above would require substantial revisions before regulatory approval can be granted.\"}}\n",
      "{'regulatory_risk_critquer': {'proposal_feedback': \"Based on the risk assessment and rating provided, I propose the following changes to improve the original proposal:\\n\\n**Mechanistic Risk**\\n\\n1. **Enhance mechanistic studies**: Include detailed descriptions of the clinical trials that support the development of Respilimab as an IL-13 inhibitor for treating eosinophilic asthma. These should include data on the binding affinity, IC50 values, and cellular assays that demonstrate the drug's mechanism of action.\\n2. **Incorporate in vitro and ex vivo studies**: Conduct additional studies to validate the efficacy and safety of Respilimab in vitro (e.g., cell culture) and ex vivo (e.g., blood samples). These studies will provide further insight into the drug's mechanism of action and help ensure regulatory approval.\\n\\n**Biomarker Assessment**\\n\\n1. **Establish biomarkers for eosinophilic asthma**: Include data on the association between Respilimab treatment and changes in relevant biomarkers, such as eosinophils, IL-13 levels, or lung function metrics.\\n2. **Include analysis of biomarker predictive models**: Develop and validate predictive models that integrate biomarker data to identify patients who are most likely to benefit from Respilimab treatment.\\n\\n**Endpoint Alignment**\\n\\n1. **Expand endpoint set**: Include additional endpoints, such as quality of life assessments (e.g., EQ-5D), patient-reported outcomes (PROs), or healthcare utilization metrics.\\n2. **Standardize endpoint definitions and measurement tools**: Ensure that all endpoints are clearly defined and measured using standardized tools to ensure consistency across studies.\\n\\n**Safety**\\n\\n1. **Conduct comprehensive safety assessments**: Include data on the safety of Respilimab in patients with pre-existing medical conditions, concurrent use with other medications, and during long-term treatment.\\n2. **Include rare adverse event reporting**: Publish complete, unvarnished data on rare adverse events (e.g., anaphylaxis) associated with Respilimab to ensure transparency and regulatory approval.\\n\\n**Alternative Approach**\\n\\n1. **Consider a different patient population**: Instead of targeting moderate-to-severe eosinophilic asthma, consider developing Respilimab for treatment of allergic rhinitis or atopic dermatitis.\\n2. **Explore alternative dosing strategies**: Investigate the potential benefits of dose-sparing regimens (e.g., every 8 weeks) or novel dosing formulations (e.g., inhalable suspension).\\n\\n**Summary**\\n\\nThe revised proposal will address significant regulatory flaws, including:\\n\\n* Enhanced mechanistic risk assessment and biomarker analysis\\n* Expanded endpoint set with standardized measurement tools\\n* Comprehensive safety assessments and rare adverse event reporting\\n\\nIn addition, an alternative approach may be explored to target different patient populations or novel dosing strategies.\\n\\n**Revised Proposal Bullet Points**\\n\\nMechanistic Risk:\\n\\n* Enhanced mechanistic studies (clinical trials, in vitro, ex vivo)\\n* Inclusion of biomarker predictive models\\n* Data on binding affinity, IC50 values, and cellular assays\\n\\nBiomarker Assessment:\\n\\n* Establishment of biomarkers for eosinophilic asthma\\n* Analysis of biomarker predictive models\\n* Data on changes in relevant biomarkers with Respilimab treatment\\n\\nEndpoint Alignment:\\n\\n* Expanded endpoint set (quality of life assessments, PROs, healthcare utilization metrics)\\n* Standardization of endpoint definitions and measurement tools\\n\\nSafety:\\n\\n* Comprehensive safety assessments (pre-existing medical conditions, concurrent use, long-term treatment)\\n* Rare adverse event reporting\\n* Data on efficacy and safety in patients with pre-existing medical conditions\"}}\n",
      "{'proposal_writer': {'improved_proposal': \"Here is a rewritten 200-word proposal incorporating the changes suggested in the risk assessment and rating provided:\\n\\n**Proposal for Respilimab: A Novel IL-13 Inhibitor for Treatment of Eosinophilic Asthma**\\n\\nRespilimab, a humanized monoclonal antibody targeting IL-13, offers a promising therapeutic option for patients with moderate-to-severe eosinophilic asthma. Our proposal outlines the efficacy and safety profile of Respilimab based on results from a comprehensive clinical trial (NCT 00001234) and supplemented by in vitro and ex vivo studies.\\n\\n**Mechanistic Risk**\\n\\nOur mechanistic risk assessment demonstrates that Respilimab effectively inhibits IL-13 activity, reducing eosinophilic inflammation and improving lung function. Enhanced mechanistic studies, including data on binding affinity, IC50 values, and cellular assays, provide a more comprehensive understanding of the drug's mechanism of action.\\n\\n**Biomarker Assessment**\\n\\nWe established biomarkers for eosinophilic asthma, demonstrating a significant association between Respilimab treatment and changes in relevant biomarkers. Biomarker predictive models were developed to identify patients most likely to benefit from Respilimab treatment.\\n\\n**Endpoint Alignment**\\n\\nOur expanded endpoint set includes quality of life assessments (EQ-5D), patient-reported outcomes (PROs), and healthcare utilization metrics, ensuring a comprehensive understanding of the drug's efficacy and safety profile.\\n\\n**Safety**\\n\\nComprehensive safety assessments and rare adverse event reporting provide a thorough evaluation of Respilimab's safety profile. Standardized measurement tools ensure consistency across studies, enhancing the overall reliability of our findings.\"}}\n",
      "{'llm_call_evaluator': {'pass_or_fail': 'pass'}}\n"
     ]
    }
   ],
   "source": [
    "# # Start conversation\n",
    "# for chunk in chain.stream({\"user_proposal\": user_prompt}, config, stream_mode=\"updates\"):\n",
    "#     print(chunk)\n",
    "    #chunk['risk_assessment'][\"risk_assessment_and_rating\"].pretty_print()\n",
    "    #chunk['regulatory_risk_critquer'][\"proposal_feedback\"].pretty_print()\n",
    "    #chunk['proposal_writer'][\"improved_proposal\"].pretty_print()\n",
    "    #chunk['llm_call_evaluator'][\"feedback\"].pretty_print()"
   ]
  },
  {
   "cell_type": "code",
   "execution_count": 25,
   "metadata": {},
   "outputs": [
    {
     "name": "stdout",
     "output_type": "stream",
     "text": [
      "Initial review:\n",
      "**Risk Assessment and Regulatory Review**\n",
      "\n",
      "**Overall Rating: 6/10**\n",
      "\n",
      "The proposed FDA label for Respilimab presents some strengths, but also identifies several concerns that may impact regulatory approval.\n",
      "\n",
      "**Strengths:**\n",
      "\n",
      "1. **Clinical trial data**: The submission includes results from a pivotal clinical trial demonstrating improved lung function and reduced exacerbations in patients with moderate-to-severe eosinophilic asthma.\n",
      "2. **Clear dosing instructions**: The proposed label outlines a clear dosing regimen, which is essential for ensuring safe and effective use of the treatment.\n",
      "\n",
      "**Flaws:**\n",
      "\n",
      "1. **Lack of detailed mechanism of action**: While the label mentions that Respilimab targets IL-13, it does not provide sufficient information on how this mechanism will prevent or treat asthma exacerbations.\n",
      "2. **Insufficient discussion of potential side effects**: The submission does not adequately address potential side effects associated with monoclonal antibody therapy, such as infusion reactions or infusion-related reactions.\n",
      "3. **Inadequate discussion of contraindications and precautions**: While the label mentions patients with a history of severe allergic reactions to IL-13, it does not provide sufficient information on other contraindications or precautions for use in specific populations (e.g., pregnant women, breastfeeding mothers).\n",
      "4. **Missing data on efficacy in pediatric population**: The submission lacks data on the efficacy and safety of Respilimab in children with asthma, which is essential for evaluating the treatment's potential benefits in younger patients.\n",
      "5. **Lack of discussion on potential interactions with concomitant medications**: The label does not address potential interactions between Respilimab and other concomitantly used medications that may impact its efficacy or safety.\n",
      "\n",
      "**Regulatory Concerns:**\n",
      "\n",
      "1. **Insufficient evidence for long-term efficacy**: While the clinical trial data shows short-term benefits, there is limited information on the treatment's long-term efficacy and durability of response.\n",
      "2. **Lack of comprehensive risk-benefit assessment**: The submission does not provide a thorough analysis of the potential benefits and risks associated with Respilimab, which is essential for ensuring that the treatment provides adequate value to patients.\n",
      "\n",
      "**Recommendations:**\n",
      "\n",
      "To improve regulatory approval, the sponsor should:\n",
      "\n",
      "1. Provide more detailed information on the mechanism of action and how it relates to asthma pathophysiology.\n",
      "2. Address potential side effects and contraindications in greater detail.\n",
      "3. Include data on efficacy and safety in pediatric populations.\n",
      "4. Discuss potential interactions with concomitantly used medications.\n",
      "\n",
      "By addressing these concerns, the sponsor can strengthen their submission and demonstrate a more comprehensive understanding of Respilimab's benefits and risks.\n",
      "\n",
      "--- --- ---\n",
      "\n",
      "proposal_feedback:\n",
      "**Mechanic Risk:**\n",
      "\n",
      "* Current Mechanism: The proposed FDA label mentions that Respilimab targets IL-13, but it does not provide sufficient information on how this mechanism will prevent or treat asthma exacerbations.\n",
      "* Recommended Change:\n",
      "\t+ Provide a detailed description of the mechanism of action, including how IL-13 plays a role in asthma pathophysiology and how Respilimab binds to IL-13 to inhibit its effects.\n",
      "\t+ Include data on the specificity and sensitivity of the monoclonal antibody for IL-13, as well as any potential off-target effects.\n",
      "* Alternative Approach: Consider conducting additional studies to better understand the mechanisms underlying Respilimab's efficacy in asthma. This could include exploratory trials examining the effects of IL-13 inhibition on airway inflammation or other relevant biological processes.\n",
      "\n",
      "**Biomarker Assessment:**\n",
      "\n",
      "* Current Biomarkers: The proposed FDA label does not provide information on biomarkers that predict response to treatment or assess disease activity.\n",
      "* Recommended Change:\n",
      "\t+ Include data on clinical and laboratory biomarkers (e.g., eosinophil count, fractional exhaled nitric oxide) that are associated with asthma severity and may serve as indicators of Respilimab's efficacy.\n",
      "\t+ Discuss potential biomarkers for monitoring treatment response and adjusting dosing regimens accordingly.\n",
      "* Alternative Approach: Consider conducting studies to identify novel biomarkers that could improve the prediction of treatment response in asthma.\n",
      "\n",
      "**Endpoint Alignment:**\n",
      "\n",
      "* Current Endpoints: The proposed FDA label focuses primarily on lung function as measured by FEV1 (forced expiratory volume) and FVC (forced vital capacity), with less emphasis on other relevant endpoints.\n",
      "* Recommended Change:\n",
      "\t+ Include data on additional endpoints that capture aspects of asthma pathology, such as airway inflammation, hyperresponsiveness, or quality-of-life measures (e.g., Asthma Control Test).\n",
      "\t+ Discuss the potential for Respilimab to address unmet needs in areas such as exercise tolerance or sleep quality.\n",
      "* Alternative Approach: Consider modifying the trial design to include a broader range of endpoints that reflect different aspects of asthma disease activity.\n",
      "\n",
      "**Safety:**\n",
      "\n",
      "* Current Safety Data: The proposed FDA label mentions potential side effects associated with monoclonal antibody therapy, but does not provide comprehensive information on safety concerns.\n",
      "* Recommended Change:\n",
      "\t+ Include data on safety trials conducted in diverse patient populations to assess tolerability and potential risks.\n",
      "\t+ Discuss the pharmacokinetics of Respilimab, including its distribution, metabolism, and excretion, as well as any potential interactions with other medications.\n",
      "\t+ Address contraindications and precautions for use in specific populations (e.g., pregnant women, breastfeeding mothers).\n",
      "* Alternative Approach: Consider conducting additional studies to investigate the long-term safety profile of Respilimab, particularly regarding its impact on cardiovascular risk factors or metabolic profiles.\n",
      "\n",
      "**Summary:**\n",
      "\n",
      "* **Mechanic Risk:** Provide more detailed information on the mechanism of action and how it relates to asthma pathophysiology.\n",
      "\t+ Strengths: Clinical trial data demonstrating efficacy in a specific population\n",
      "\t+ Flaws: Lack of comprehensive understanding of mechanism of action and potential off-target effects\n",
      "* **Biomarker Assessment:** Include data on clinical and laboratory biomarkers that predict response to treatment or assess disease activity.\n",
      "\t+ Strengths: Potential for improved prediction of treatment response using novel biomarkers\n",
      "\t+ Flaws: Limited data on biomarkers associated with asthma severity\n",
      "* **Endpoint Alignment:** Include data on additional endpoints that capture aspects of asthma pathology, such as airway inflammation or quality-of-life measures.\n",
      "\t+ Strengths: Comprehensive understanding of disease activity across multiple endpoints\n",
      "\t+ Flaws: Focus primarily on lung function metrics\n",
      "* **Safety:** Include comprehensive safety data and address contraindications and precautions for use in specific populations.\n",
      "\t+ Strengths: Demonstrated efficacy in a specific population with acceptable safety profile\n",
      "\t+ Flaws: Limited information on long-term safety profile and potential risks\n",
      "\n",
      "--- --- ---\n",
      "\n",
      "improved_proposal:\n",
      "Here is a rewritten 200-word proposal incorporating the changes:\n",
      "\n",
      "**Proposal for FDA Label Approval**\n",
      "\n",
      "Respilimab, a humanized monoclonal antibody targeting IL-13, is proposed for treatment of moderate-to-severe eosinophilic asthma. The label outlines dosing (300 mg subcutaneous every 4 weeks), and provides safety data and trial outcomes showing improved lung function and reduced exacerbations.\n",
      "\n",
      "**Mechanism of Action:**\n",
      "\n",
      "Respilimab targets IL-13, a key cytokine involved in asthma pathophysiology. Our proposed mechanism illustrates how the monoclonal antibody binds to IL-13 to inhibit its effects on airway inflammation and hyperresponsiveness. We also provide data on the specificity and sensitivity of Respilimab for IL-13, as well as potential off-target effects.\n",
      "\n",
      "**Biomarker Assessment:**\n",
      "\n",
      "We include clinical and laboratory biomarkers associated with asthma severity, such as eosinophil count and fractional exhaled nitric oxide (FeNO). These biomarkers predict response to treatment and assess disease activity. Our data demonstrate the utility of these biomarkers in monitoring treatment response and adjusting dosing regimens.\n",
      "\n",
      "**Endpoint Alignment:**\n",
      "\n",
      "Our proposed label includes a comprehensive set of endpoints that capture aspects of asthma pathology, including airway inflammation, hyperresponsiveness, and quality-of-life measures (e.g., Asthma Control Test). These endpoints provide a more complete understanding of disease activity and the effectiveness of Respilimab in addressing unmet needs.\n",
      "\n",
      "**Safety:**\n",
      "\n",
      "We have conducted safety trials in diverse patient populations to assess tolerability and potential risks. Our data demonstrate the acceptable safety profile of Respilimab, including pharmacokinetic information on distribution, metabolism, and excretion.\n",
      "\n",
      "By incorporating these changes, we provide a more comprehensive understanding of Respilimab's benefits and risks, and strengthen our submission for FDA label approval.\n",
      "grade:\n",
      "pass\n"
     ]
    }
   ],
   "source": [
    "print(\"Initial review:\")\n",
    "print(state[\"risk_assessment_and_rating\"])\n",
    "print(\"\\n--- --- ---\\n\")\n",
    "if \"proposal_feedback\" in state:\n",
    "    print(\"proposal_feedback:\")\n",
    "    print(state[\"proposal_feedback\"])\n",
    "    print(\"\\n--- --- ---\\n\")\n",
    "\n",
    "    print(\"improved_proposal:\")\n",
    "    print(state[\"improved_proposal\"])\n",
    "    print(\"grade:\")\n",
    "    print(state[\"pass_or_fail\"])\n",
    "else:\n",
    "    print(\"Proposal failed quality gate - lower than 5 threshold!\")\n",
    "    \n",
    "    "
   ]
  }
 ],
 "metadata": {
  "kernelspec": {
   "display_name": "rragent-reet",
   "language": "python",
   "name": "python3"
  },
  "language_info": {
   "codemirror_mode": {
    "name": "ipython",
    "version": 3
   },
   "file_extension": ".py",
   "mimetype": "text/x-python",
   "name": "python",
   "nbconvert_exporter": "python",
   "pygments_lexer": "ipython3",
   "version": "3.11.11"
  }
 },
 "nbformat": 4,
 "nbformat_minor": 2
}
