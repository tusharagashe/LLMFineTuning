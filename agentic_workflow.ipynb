{
 "cells": [
  {
   "cell_type": "code",
   "execution_count": 1,
   "metadata": {},
   "outputs": [],
   "source": [
    "from IPython.display import Image, display\n",
    "from langgraph.graph import END, START, StateGraph\n",
    "from typing_extensions import TypedDict\n",
    "from _constants import LLM_CONFIGS\n",
    "from langchain_ollama import ChatOllama\n",
    "from langchain_core.messages import HumanMessage, SystemMessage\n",
    "from pydantic import BaseModel, Field\n",
    "from typing_extensions import Literal\n",
    "from langchain_core.runnables import RunnableConfig\n",
    "\n",
    "from langgraph.checkpoint.memory import MemorySaver\n"
   ]
  },
  {
   "cell_type": "markdown",
   "metadata": {},
   "source": [
    "# Example - Prompt Chaining"
   ]
  },
  {
   "cell_type": "code",
   "execution_count": 2,
   "metadata": {},
   "outputs": [],
   "source": [
    "# Graph state\n",
    "class State(TypedDict):\n",
    "    topic: str\n",
    "    joke: str\n",
    "    improved_joke: str\n",
    "    final_joke: str"
   ]
  },
  {
   "cell_type": "code",
   "execution_count": 3,
   "metadata": {},
   "outputs": [],
   "source": [
    "llm = ChatOllama(\n",
    "    model=LLM_CONFIGS[\"llama3.2\"][\"model\"]\n",
    ")"
   ]
  },
  {
   "cell_type": "code",
   "execution_count": 4,
   "metadata": {},
   "outputs": [
    {
     "data": {
      "image/png": "[encoded data removed]",
      "text/plain": [
       "<IPython.core.display.Image object>"
      ]
     },
     "metadata": {},
     "output_type": "display_data"
    }
   ],
   "source": [
    "# Nodes\n",
    "def generate_joke(state: State):\n",
    "    \"\"\"First LLM call to generate initial joke\"\"\"\n",
    "\n",
    "    msg = llm.invoke(f\"Write a short joke about {state['topic']}\")\n",
    "    return {\"joke\": msg.content}\n",
    "\n",
    "\n",
    "def check_punchline(state: State):\n",
    "    \"\"\"Gate function to check if the joke has a punchline\"\"\"\n",
    "\n",
    "    # Simple check - does the joke contain \"?\" or \"!\"\n",
    "    if \"?\" in state[\"joke\"] or \"!\" in state[\"joke\"]:\n",
    "        return \"Fail\"\n",
    "    return \"Pass\"\n",
    "\n",
    "\n",
    "def improve_joke(state: State):\n",
    "    \"\"\"Second LLM call to improve the joke\"\"\"\n",
    "\n",
    "    msg = llm.invoke(f\"Make this joke funnier by adding wordplay: {state['joke']}\")\n",
    "    return {\"improved_joke\": msg.content}\n",
    "\n",
    "\n",
    "def polish_joke(state: State):\n",
    "    \"\"\"Third LLM call for final polish\"\"\"\n",
    "\n",
    "    msg = llm.invoke(f\"Add a surprising twist to this joke: {state['improved_joke']}\")\n",
    "    return {\"final_joke\": msg.content}\n"
   ]
  },
  {
   "cell_type": "code",
   "execution_count": null,
   "metadata": {},
   "outputs": [],
   "source": [
    "# Build workflow\n",
    "workflow = StateGraph(State)\n",
    "\n",
    "# Add nodes\n",
    "workflow.add_node(\"generate_joke\", generate_joke)\n",
    "workflow.add_node(\"improve_joke\", improve_joke)\n",
    "workflow.add_node(\"polish_joke\", polish_joke)\n",
    "\n",
    "# Add edges to connect nodes\n",
    "workflow.add_edge(START, \"generate_joke\")\n",
    "workflow.add_conditional_edges(\n",
    "    \"generate_joke\", check_punchline, {\"Fail\": \"improve_joke\", \"Pass\": END}\n",
    ")\n",
    "workflow.add_edge(\"improve_joke\", \"polish_joke\")\n",
    "workflow.add_edge(\"polish_joke\", END)\n",
    "\n",
    "# Compile\n",
    "chain = workflow.compile()\n",
    "\n",
    "# Show workflow\n",
    "display(Image(chain.get_graph().draw_mermaid_png()))"
   ]
  },
  {
   "cell_type": "code",
   "execution_count": 5,
   "metadata": {},
   "outputs": [
    {
     "name": "stdout",
     "output_type": "stream",
     "text": [
      "Initial joke:\n",
      "Why did the cat join a band?\n",
      "\n",
      "Because it wanted to be the purr-cussionist.\n",
      "\n",
      "--- --- ---\n",
      "\n",
      "Improved joke:\n",
      "Here's an attempt at adding wordplay:\n",
      "\n",
      "Why did the cat join a band?\n",
      "\n",
      "Because it heard the drums were 'paw-some' and wanted to become the purr-cussionist – but little did it know, it was just the cat's meow on stage!\n",
      "\n",
      "In this version, I've added a few layers of wordplay:\n",
      "\n",
      "1. \"Paw-some\" is a play on the word \"awesome\" that incorporates the idea of a cat's paw.\n",
      "2. The phrase \"the cat's meow\" is an idiom that means something or someone is excellent or desirable, but in this context, it's also a clever pun on the fact that cats are known for their distinctive meowing sound.\n",
      "\n",
      "Let me know if you'd like me to try any further adjustments!\n",
      "\n",
      "--- --- ---\n",
      "\n",
      "Final joke:\n",
      "I love where you're going with this joke. Here's a suggestion for adding another layer of wordplay:\n",
      "\n",
      "Why did the cat join a band?\n",
      "\n",
      "Because it heard the drums were 'paw-some' and wanted to become the purr-cussionist – but little did it know, it was just the cat's meow on stage! And after all that fame, the cat's whiskers were ruffled by the attention.\n",
      "\n",
      "In this revised version:\n",
      "\n",
      "1. I've added a new layer of wordplay with \"ruffled by the attention,\" which is a play on words referencing both the cat's feathers (whiskers) and being emotionally stirred or flustered.\n",
      "2. This addition maintains the lighthearted tone while further exploring the comedic potential of the joke.\n",
      "\n",
      "Let me know if you'd like to experiment with other adjustments!\n"
     ]
    }
   ],
   "source": [
    "# Invoke\n",
    "state = chain.invoke({\"topic\": \"cats\"})\n",
    "print(\"Initial joke:\")\n",
    "print(state[\"joke\"])\n",
    "print(\"\\n--- --- ---\\n\")\n",
    "if \"improved_joke\" in state:\n",
    "    print(\"Improved joke:\")\n",
    "    print(state[\"improved_joke\"])\n",
    "    print(\"\\n--- --- ---\\n\")\n",
    "\n",
    "    print(\"Final joke:\")\n",
    "    print(state[\"final_joke\"])\n",
    "else:\n",
    "    print(\"Joke failed quality gate - no punchline detected!\")\n"
   ]
  },
  {
   "cell_type": "markdown",
   "metadata": {},
   "source": [
    "# Rough RRA Workflow - Prompt Chaining"
   ]
  },
  {
   "cell_type": "code",
   "execution_count": 12,
   "metadata": {},
   "outputs": [],
   "source": [
    "# memory = MemorySaver()"
   ]
  },
  {
   "cell_type": "code",
   "execution_count": 2,
   "metadata": {},
   "outputs": [],
   "source": [
    "# Graph state\n",
    "class State(TypedDict):\n",
    "    user_proposal: str\n",
    "    risk_assessment_and_rating: str\n",
    "    proposal_feedback: str\n",
    "    improved_proposal: str\n",
    "    pass_or_fail: str"
   ]
  },
  {
   "cell_type": "code",
   "execution_count": 3,
   "metadata": {},
   "outputs": [],
   "source": [
    "# Schema for structured output to use in evaluation\n",
    "class Feedback(BaseModel):\n",
    "    grade: Literal[\"pass\", \"fail\"] = Field(\n",
    "        description=\"Decide if the proposal passes and will be successful going through FDA review. If the rating is higher than 9 out of 10, then it passes, else it fails.\",\n",
    "    )\n",
    "    feedback: str = Field(\n",
    "        description=\"If the proposal fails, provide the current rating and risk assessment to improve.\",\n",
    "    )\n"
   ]
  },
  {
   "cell_type": "code",
   "execution_count": 4,
   "metadata": {},
   "outputs": [],
   "source": [
    "llm = ChatOllama(\n",
    "    model=LLM_CONFIGS[\"llama3.2\"][\"model\"]\n",
    ")\n",
    "evaluator = llm.with_structured_output(Feedback)"
   ]
  },
  {
   "cell_type": "code",
   "execution_count": 23,
   "metadata": {},
   "outputs": [],
   "source": [
    "# # Schema for structured output to use as routing logic\n",
    "# class Route(BaseModel):\n",
    "#     step: Literal[\"poem\", \"story\", \"joke\"] = Field(\n",
    "#         None, description=\"The next step in the routing process\"\n",
    "#     )"
   ]
  },
  {
   "cell_type": "code",
   "execution_count": 24,
   "metadata": {},
   "outputs": [],
   "source": [
    "# router = llm.with_structured_output(Route)\n"
   ]
  },
  {
   "cell_type": "code",
   "execution_count": 25,
   "metadata": {},
   "outputs": [],
   "source": [
    "# def get_results_from_vector_db():\n",
    "#     return \"result1, result2, result3\"\n",
    "\n",
    "# def get_results_from_clinicaltrials_api():\n",
    "#     return \"trial1, trial2, trial3\""
   ]
  },
  {
   "cell_type": "code",
   "execution_count": 5,
   "metadata": {},
   "outputs": [],
   "source": [
    "# Nodes\n",
    "def risk_assessment(state: State, config: RunnableConfig):\n",
    "    \"\"\"First LLM call to provide a risk assessment of the user proposal\"\"\"\n",
    "    risk_assessment_system_message = \"You are a FDA regulatory reviewer. Provide a risk \\\n",
    "                    assessment of the user submission and detail specific flaws in the application\\\n",
    "                        that would not pass regulatory approval. Provide an overall summary and a rating \\\n",
    "                            from 1 to 10.\"\n",
    "\n",
    "    if state.get(\"improved_proposal\"):\n",
    "        grade = evaluator.invoke(\n",
    "            [\n",
    "                SystemMessage(content= risk_assessment_system_message),\n",
    "                HumanMessage(content=f\"Review this proposal, provide a rating, and grade the proposal: {state['improved_proposal']} but take into account the feedback: {state['proposal_feedback']}\")\n",
    "            ],\n",
    "            config\n",
    "        )\n",
    "    #else:\n",
    "    #    msg = llm.invoke(f\"Write a joke about {state['topic']}\")\n",
    "    #return {\"joke\": msg.content}\n",
    "    else:\n",
    "        grade = evaluator.invoke(\n",
    "            [\n",
    "                SystemMessage(content= risk_assessment_system_message),\n",
    "                HumanMessage(content=f\"Review this proposal, provide a rating, and grade the proposal: {state['user_proposal']}\")\n",
    "            ],\n",
    "            config\n",
    "        )\n",
    "    \n",
    "    return {\"pass_or_fail\":grade.grade, \"risk_assessment_and_rating\": grade.feedback}\n",
    "\n",
    "\n",
    "# need to be removed? part of evaluator\n",
    "def check_rating(state: State):\n",
    "    \"\"\"Gate function to check if the risk rating is = 5 out of 10\"\"\"\n",
    "\n",
    "    # Simple check - does the joke contain \"?\" or \"!\"\n",
    "    if \"5\" in state[\"risk_assessment_and_rating\"]:\n",
    "        return \"Fail\"\n",
    "    return \"Pass\"\n",
    "\n",
    "\n",
    "def regulatory_risk_critquer(state: State, config: RunnableConfig):\n",
    "    \"\"\"Second LLM call to provide specific feedback based on different categories of regulatory approval to improve the rating.\"\"\"\n",
    "\n",
    "    #msg = llm.invoke(f\"Make this joke funnier by adding wordplay: {state['joke']}\")\n",
    "    msg = llm.invoke(\n",
    "        [\n",
    "            SystemMessage(content=\"You are an expert regulatory critiquer. \\\n",
    "                            Given the risk assessment and rating, propose \\\n",
    "                                changes and explain why to make these changes to improve the original proposal.\\\n",
    "                                Also provide an alternative approach for how they can rework their proposal to a different population or other strategies you can think of for better success \\\n",
    "                                    Give the final result in bullet points summary for each of these categories. \\\n",
    "                                    1) Mechanistic Risk 2) Biomarker Asessment 3) Endpoint Alignment 4) Safety.\"),\n",
    "            HumanMessage(content=f\"Here is the original proposal: {state['user_proposal']}. Here is the risk assessment \\\n",
    "                and rating: {state['risk_assessment_and_rating']}\")\n",
    "        ],\n",
    "        config\n",
    "    )\n",
    "    return {\"proposal_feedback\": msg.content}\n",
    "\n",
    "\n",
    "def proposal_writer(state: State, config: RunnableConfig):\n",
    "    \"\"\"Third LLM call for writing a new proposal based on feedback.\"\"\"\n",
    "\n",
    "    #msg = llm.invoke(f\"Add a surprising twist to this joke: {state['improved_joke']}\")\n",
    "    msg = llm.invoke(\n",
    "        [\n",
    "            SystemMessage(content=\"You are an expert FDA regulatory writer. \\\n",
    "                            Given the feedback for approval, rewrite the original proposal with the appropriate changes. \\\n",
    "                                Provide a 200-word new proposal well-written incorporating the changes\"),\n",
    "            HumanMessage(content=f\"Here is the original proposal: {state['user_proposal']}. Here is the risk assessment \\\n",
    "                and rating: {state['risk_assessment_and_rating']}. Here is the proposal feedback: {state['proposal_feedback']}\")\n",
    "        ],\n",
    "        config\n",
    "    )\n",
    "    return {\"improved_proposal\": msg.content}\n",
    "\n",
    "# def llm_call_evaluator(state: State, config: RunnableConfig):\n",
    "#     \"\"\"LLM evaluates the proposal\"\"\"\n",
    "\n",
    "#     grade = evaluator.invoke(f\"Grade the proposal {state['improved_proposal']}\", config)\n",
    "#     return {\"pass_or_fail\": grade.grade, \"feedback\": grade.feedback}\n"
   ]
  },
  {
   "cell_type": "code",
   "execution_count": 6,
   "metadata": {},
   "outputs": [],
   "source": [
    "def route_proposal(state: State):\n",
    "    \"\"\"Route back to risk assessment agent or end based upon feedback from the evaluator\"\"\"\n",
    "\n",
    "    if state[\"pass_or_fail\"] == \"pass\":\n",
    "        return \"Accepted\"\n",
    "    elif state[\"pass_or_fail\"] == \"fail\":\n",
    "        return \"Rejected + Feedback\""
   ]
  },
  {
   "cell_type": "code",
   "execution_count": 7,
   "metadata": {},
   "outputs": [
    {
     "data": {
      "text/plain": [
       "<langgraph.graph.state.StateGraph at 0x10d19c310>"
      ]
     },
     "execution_count": 7,
     "metadata": {},
     "output_type": "execute_result"
    }
   ],
   "source": [
    "# Build workflow\n",
    "workflow = StateGraph(State)\n",
    "\n",
    "# Add nodes\n",
    "workflow.add_node(\"risk_assessment\", risk_assessment)\n",
    "workflow.add_node(\"regulatory_risk_critquer\", regulatory_risk_critquer)\n",
    "workflow.add_node(\"proposal_writer\", proposal_writer)\n",
    "#workflow.add_node(\"llm_call_evaluator\", llm_call_evaluator)\n",
    "\n",
    "# Add edges to connect nodes\n",
    "workflow.add_edge(START, \"risk_assessment\")\n",
    "workflow.add_conditional_edges(\n",
    "    \"risk_assessment\", check_rating, {\"Fail\": \"regulatory_risk_critquer\", \"Pass\": END}\n",
    ")\n",
    "workflow.add_edge(\"regulatory_risk_critquer\", \"proposal_writer\")\n",
    "#workflow.add_edge(\"proposal_writer\", \"llm_call_evaluator\")\n",
    "workflow.add_conditional_edges(\n",
    "    \"proposal_writer\",\n",
    "    route_proposal,\n",
    "    {  # Name returned by route_proposal : Name of next node to visit\n",
    "        \"Accepted\": END,\n",
    "        \"Rejected + Feedback\": \"risk_assessment\",\n",
    "    },\n",
    ")\n",
    "\n"
   ]
  },
  {
   "cell_type": "code",
   "execution_count": 8,
   "metadata": {},
   "outputs": [
    {
     "data": {
      "image/png": "[encoded data removed]",
      "text/plain": [
       "<IPython.core.display.Image object>"
      ]
     },
     "metadata": {},
     "output_type": "display_data"
    }
   ],
   "source": [
    "# Compile\n",
    "memory = MemorySaver()\n",
    "chain = workflow.compile(checkpointer=memory)\n",
    "\n",
    "# Show workflow\n",
    "display(Image(chain.get_graph().draw_mermaid_png()))"
   ]
  },
  {
   "cell_type": "code",
   "execution_count": 9,
   "metadata": {},
   "outputs": [
    {
     "name": "stdout",
     "output_type": "stream",
     "text": [
      "{'thread_id': '2'}\n"
     ]
    }
   ],
   "source": [
    "# Invoke\n",
    "user_prompt = \"This proposed FDA label describes Respilimab, a humanized monoclonal antibody \\\n",
    "    targeting IL-13, for treatment of moderate-to-severe eosinophilic asthma. It outlines dosing \\\n",
    "        (300 mg subcutaneous every 4 weeks), safety data, and trial outcomes showing improved lung \\\n",
    "            function and reduced exacerbations, supporting use in patients uncontrolled on standard inhaled therapies.\"\n",
    "\n",
    "\n",
    "config = {\"configurable\": {\"thread_id\": \"2\"}}\n",
    "print(config['configurable'])\n",
    "#state = chain.invoke({\"user_proposal\": user_prompt}, config)\n",
    "\n"
   ]
  },
  {
   "cell_type": "code",
   "execution_count": 12,
   "metadata": {},
   "outputs": [],
   "source": [
    "#state = chain.invoke({\"user_proposal\": user_prompt}, config)\n"
   ]
  },
  {
   "cell_type": "code",
   "execution_count": 11,
   "metadata": {},
   "outputs": [
    {
     "name": "stdout",
     "output_type": "stream",
     "text": [
      "{'risk_assessment': {'pass_or_fail': 'fail', 'risk_assessment_and_rating': \"Overall Rating: 2/10\\nThe following are specific issues with the proposal:\\n1. Lack of detailed clinical trial data analysis: The proposal mentions that trial outcomes show improved lung function and reduced exacerbations, but it does not provide a clear explanation or statistical analysis of these results.\\n2. No discussion of potential side effects: The proposal does not address potential side effects of Respilimab, such as infusion reactions, hypertension, or hyperkalemia, which could be significant concerns for patients.\\n3. Inadequate comparison to existing treatments: The proposal does not adequately compare the efficacy and safety of Respilimab to existing inhaled therapies for asthma, making it difficult to justify its use in clinical practice.\\n4. No discussion of patient population demographics: The proposal does not provide information on the demographics of the patients enrolled in the clinical trials, such as age range, sex distribution, or co-morbidities, which could impact the study's results and generalizability.\\n5. Insufficient data on long-term efficacy and safety: The proposal does not report data on the long-term efficacy and safety of Respilimab, which is crucial for assessing its potential risks and benefits over time.\\nOverall, while the proposal presents some promising trial outcomes, it falls short in addressing key concerns regarding safety, efficacy, and comparability to existing treatments.\"}}\n",
      "{'regulatory_risk_critquer': {'proposal_feedback': \"Based on the original proposal's risk assessment and rating, I propose the following changes and explanations:\\n\\n**1. Mechanistic Risk:**\\n\\nOriginal Proposal: The proposed mechanism of action is not fully explained, which raises concerns about the potential for unforeseen effects.\\n\\nProposed Change: Provide a detailed explanation of how Respilimab targets IL-13 and how this mechanism relates to asthma pathophysiology.\\n\\nWhy: This change will help ensure that the proposed treatment is more effective and less likely to cause unintended consequences.\\n\\nAlternative Approach: Consider conducting additional mechanistic studies to better understand how Respilimab works in the body.\\n\\n**2. Biomarker Assessment:**\\n\\nOriginal Proposal: The proposal does not provide clear biomarkers for monitoringRespilimab's effectiveness or assessing its safety.\\n\\nProposed Change: Identify relevant biomarkers (e.g., eosinophil counts, IL-13 levels) to monitor treatment response and potential side effects.\\n\\nWhy: This change will enable healthcare providers to more effectively monitor patients' responses to Respilimab and identify potential safety concerns earlier.\\n\\nAlternative Approach: Consider using machine learning algorithms to analyze large datasets and identify novel biomarkers for monitoring Respilimab's effectiveness.\\n\\n**3. Endpoint Alignment:**\\n\\nOriginal Proposal: The proposed endpoints (improved lung function, reduced exacerbations) may not be the most relevant or sensitive measures of treatment success.\\n\\nProposed Change: Identify more nuanced endpoints that capture the complexities of asthma disease progression and treatment response.\\n\\nWhy: This change will ensure that Respilimab is evaluated using a comprehensive set of endpoints that accurately reflect its potential benefits and limitations.\\n\\nAlternative Approach: Consider incorporating patient-reported outcomes (PROs) to assess the impact of Respilimab on quality of life and symptom management.\\n\\n**4. Safety:**\\n\\nOriginal Proposal: The proposal does not adequately address potential side effects or long-term safety concerns.\\n\\nProposed Change: Provide a comprehensive discussion of potential side effects, including infusion reactions, hypertension, hyperkalemia, and other notable adverse events.\\n\\nWhy: This change will help ensure that patients are aware of the potential risks associated with Respilimab treatment and can make informed decisions about their care.\\n\\nAlternative Approach: Consider conducting post-marketing surveillance studies to monitor Respilimab's safety in a real-world setting.\\n\\n**Summary of Changes in Bullet Points:**\\n\\n* Mechanistic Risk:\\n\\t+ Provide detailed explanation of how Respilimab targets IL-13\\n\\t+ Conduct additional mechanistic studies\\n* Biomarker Assessment:\\n\\t+ Identify relevant biomarkers for monitoring treatment response and potential side effects\\n\\t+ Use machine learning algorithms to analyze large datasets\\n* Endpoint Alignment:\\n\\t+ Identify more nuanced endpoints that capture complexities of asthma disease progression\\n\\t+ Incorporate patient-reported outcomes (PROs)\\n* Safety:\\n\\t+ Provide comprehensive discussion of potential side effects\\n\\t+ Conduct post-marketing surveillance studies\\n\\nOverall, these changes aim to address key concerns regarding safety, efficacy, and comparability to existing treatments. By incorporating more detailed clinical trial data analysis, addressing potential side effects, and identifying relevant biomarkers, the revised proposal will provide a more robust foundation for regulatory approval.\"}}\n",
      "{'proposal_writer': {'improved_proposal': \"Here is a rewritten 200-word new proposal that incorporates the changes and explanations provided:\\n\\n**Respilimab (humanized monoclonal antibody targeting IL-13) for Treatment of Moderate-to-Severe Eosinophilic Asthma**\\n\\nWe propose FDA label for Respilimab, a humanized monoclonal antibody targeting IL-13, for treatment of moderate-to-severe eosinophilic asthma. Our proposal outlines dosing (300 mg subcutaneous every 4 weeks), safety data, and trial outcomes demonstrating improved lung function and reduced exacerbations in patients uncontrolled on standard inhaled therapies.\\n\\n**Mechanistic Risk:**\\nRespilimab targets IL-13 by binding to its receptor, reducing inflammation and airway hyperresponsiveness. This mechanism is supported by preclinical studies demonstrating its ability to reduce eosinophilic inflammation and improve lung function.\\n\\n**Biomarker Assessment:**\\nWe have identified relevant biomarkers, including eosinophil counts and IL-13 levels, to monitor treatment response and potential side effects. Additionally, we propose using machine learning algorithms to analyze large datasets and identify novel biomarkers for monitoring Respilimab's effectiveness.\\n\\n**Endpoint Alignment:**\\nOur trial endpoints include improved lung function (FEV1) and reduced exacerbations, but also incorporate patient-reported outcomes (PROs) to assess quality of life and symptom management. These nuanced endpoints capture the complexities of asthma disease progression and treatment response.\\n\\n**Safety:**\\nRespilimab's potential side effects include infusion reactions, hypertension, hyperkalemia, and other notable adverse events. We have conducted comprehensive safety assessments and propose post-marketing surveillance studies to monitor Respilimab's long-term safety in a real-world setting.\"}}\n",
      "{'risk_assessment': {'pass_or_fail': 'fail', 'risk_assessment_and_rating': 'The submission lacks adequate detail regarding how Respilimab works, safety concerns, and its efficacy in treating moderate-to-severe eosinophilic asthma. Additionally, it does not adequately address the potential risks associated with this treatment. The proposal also fails to provide sufficient evidence of comparability to existing treatments and lack of well-established standards for dosing and administration.'}}\n"
     ]
    }
   ],
   "source": [
    "# # Start conversation\n",
    "for chunk in chain.stream({\"user_proposal\": user_prompt}, config, stream_mode=\"updates\"):\n",
    "    print(chunk)\n",
    "    #chunk['risk_assessment'][\"risk_assessment_and_rating\"].pretty_print()\n",
    "    #chunk['regulatory_risk_critquer'][\"proposal_feedback\"].pretty_print()\n",
    "    #chunk['proposal_writer'][\"improved_proposal\"].pretty_print()\n",
    "    #chunk['llm_call_evaluator'][\"feedback\"].pretty_print()"
   ]
  },
  {
   "cell_type": "code",
   "execution_count": 34,
   "metadata": {},
   "outputs": [
    {
     "name": "stdout",
     "output_type": "stream",
     "text": [
      "Initial review:\n",
      "**Risk Assessment and Regulatory Review**\n",
      "\n",
      "**Overall Rating: 6/10**\n",
      "\n",
      "The proposed FDA label for Respilimab presents some strengths, but also identifies several concerns that may impact regulatory approval.\n",
      "\n",
      "**Strengths:**\n",
      "\n",
      "1. **Clinical trial data**: The submission includes results from a pivotal clinical trial demonstrating improved lung function and reduced exacerbations in patients with moderate-to-severe eosinophilic asthma.\n",
      "2. **Clear dosing instructions**: The proposed label outlines a clear dosing regimen, which is essential for ensuring safe and effective use of the treatment.\n",
      "\n",
      "**Flaws:**\n",
      "\n",
      "1. **Lack of detailed mechanism of action**: While the label mentions that Respilimab targets IL-13, it does not provide sufficient information on how this mechanism will prevent or treat asthma exacerbations.\n",
      "2. **Insufficient discussion of potential side effects**: The submission does not adequately address potential side effects associated with monoclonal antibody therapy, such as infusion reactions or infusion-related reactions.\n",
      "3. **Inadequate discussion of contraindications and precautions**: While the label mentions patients with a history of severe allergic reactions to IL-13, it does not provide sufficient information on other contraindications or precautions for use in specific populations (e.g., pregnant women, breastfeeding mothers).\n",
      "4. **Missing data on efficacy in pediatric population**: The submission lacks data on the efficacy and safety of Respilimab in children with asthma, which is essential for evaluating the treatment's potential benefits in younger patients.\n",
      "5. **Lack of discussion on potential interactions with concomitant medications**: The label does not address potential interactions between Respilimab and other concomitantly used medications that may impact its efficacy or safety.\n",
      "\n",
      "**Regulatory Concerns:**\n",
      "\n",
      "1. **Insufficient evidence for long-term efficacy**: While the clinical trial data shows short-term benefits, there is limited information on the treatment's long-term efficacy and durability of response.\n",
      "2. **Lack of comprehensive risk-benefit assessment**: The submission does not provide a thorough analysis of the potential benefits and risks associated with Respilimab, which is essential for ensuring that the treatment provides adequate value to patients.\n",
      "\n",
      "**Recommendations:**\n",
      "\n",
      "To improve regulatory approval, the sponsor should:\n",
      "\n",
      "1. Provide more detailed information on the mechanism of action and how it relates to asthma pathophysiology.\n",
      "2. Address potential side effects and contraindications in greater detail.\n",
      "3. Include data on efficacy and safety in pediatric populations.\n",
      "4. Discuss potential interactions with concomitantly used medications.\n",
      "\n",
      "By addressing these concerns, the sponsor can strengthen their submission and demonstrate a more comprehensive understanding of Respilimab's benefits and risks.\n",
      "\n",
      "--- --- ---\n",
      "\n",
      "proposal_feedback:\n",
      "**Mechanic Risk:**\n",
      "\n",
      "* Current Mechanism: The proposed FDA label mentions that Respilimab targets IL-13, but it does not provide sufficient information on how this mechanism will prevent or treat asthma exacerbations.\n",
      "* Recommended Change:\n",
      "\t+ Provide a detailed description of the mechanism of action, including how IL-13 plays a role in asthma pathophysiology and how Respilimab binds to IL-13 to inhibit its effects.\n",
      "\t+ Include data on the specificity and sensitivity of the monoclonal antibody for IL-13, as well as any potential off-target effects.\n",
      "* Alternative Approach: Consider conducting additional studies to better understand the mechanisms underlying Respilimab's efficacy in asthma. This could include exploratory trials examining the effects of IL-13 inhibition on airway inflammation or other relevant biological processes.\n",
      "\n",
      "**Biomarker Assessment:**\n",
      "\n",
      "* Current Biomarkers: The proposed FDA label does not provide information on biomarkers that predict response to treatment or assess disease activity.\n",
      "* Recommended Change:\n",
      "\t+ Include data on clinical and laboratory biomarkers (e.g., eosinophil count, fractional exhaled nitric oxide) that are associated with asthma severity and may serve as indicators of Respilimab's efficacy.\n",
      "\t+ Discuss potential biomarkers for monitoring treatment response and adjusting dosing regimens accordingly.\n",
      "* Alternative Approach: Consider conducting studies to identify novel biomarkers that could improve the prediction of treatment response in asthma.\n",
      "\n",
      "**Endpoint Alignment:**\n",
      "\n",
      "* Current Endpoints: The proposed FDA label focuses primarily on lung function as measured by FEV1 (forced expiratory volume) and FVC (forced vital capacity), with less emphasis on other relevant endpoints.\n",
      "* Recommended Change:\n",
      "\t+ Include data on additional endpoints that capture aspects of asthma pathology, such as airway inflammation, hyperresponsiveness, or quality-of-life measures (e.g., Asthma Control Test).\n",
      "\t+ Discuss the potential for Respilimab to address unmet needs in areas such as exercise tolerance or sleep quality.\n",
      "* Alternative Approach: Consider modifying the trial design to include a broader range of endpoints that reflect different aspects of asthma disease activity.\n",
      "\n",
      "**Safety:**\n",
      "\n",
      "* Current Safety Data: The proposed FDA label mentions potential side effects associated with monoclonal antibody therapy, but does not provide comprehensive information on safety concerns.\n",
      "* Recommended Change:\n",
      "\t+ Include data on safety trials conducted in diverse patient populations to assess tolerability and potential risks.\n",
      "\t+ Discuss the pharmacokinetics of Respilimab, including its distribution, metabolism, and excretion, as well as any potential interactions with other medications.\n",
      "\t+ Address contraindications and precautions for use in specific populations (e.g., pregnant women, breastfeeding mothers).\n",
      "* Alternative Approach: Consider conducting additional studies to investigate the long-term safety profile of Respilimab, particularly regarding its impact on cardiovascular risk factors or metabolic profiles.\n",
      "\n",
      "**Summary:**\n",
      "\n",
      "* **Mechanic Risk:** Provide more detailed information on the mechanism of action and how it relates to asthma pathophysiology.\n",
      "\t+ Strengths: Clinical trial data demonstrating efficacy in a specific population\n",
      "\t+ Flaws: Lack of comprehensive understanding of mechanism of action and potential off-target effects\n",
      "* **Biomarker Assessment:** Include data on clinical and laboratory biomarkers that predict response to treatment or assess disease activity.\n",
      "\t+ Strengths: Potential for improved prediction of treatment response using novel biomarkers\n",
      "\t+ Flaws: Limited data on biomarkers associated with asthma severity\n",
      "* **Endpoint Alignment:** Include data on additional endpoints that capture aspects of asthma pathology, such as airway inflammation or quality-of-life measures.\n",
      "\t+ Strengths: Comprehensive understanding of disease activity across multiple endpoints\n",
      "\t+ Flaws: Focus primarily on lung function metrics\n",
      "* **Safety:** Include comprehensive safety data and address contraindications and precautions for use in specific populations.\n",
      "\t+ Strengths: Demonstrated efficacy in a specific population with acceptable safety profile\n",
      "\t+ Flaws: Limited information on long-term safety profile and potential risks\n",
      "\n",
      "--- --- ---\n",
      "\n",
      "improved_proposal:\n",
      "Here is a rewritten 200-word proposal incorporating the changes:\n",
      "\n",
      "**Proposal for FDA Label Approval**\n",
      "\n",
      "Respilimab, a humanized monoclonal antibody targeting IL-13, is proposed for treatment of moderate-to-severe eosinophilic asthma. The label outlines dosing (300 mg subcutaneous every 4 weeks), and provides safety data and trial outcomes showing improved lung function and reduced exacerbations.\n",
      "\n",
      "**Mechanism of Action:**\n",
      "\n",
      "Respilimab targets IL-13, a key cytokine involved in asthma pathophysiology. Our proposed mechanism illustrates how the monoclonal antibody binds to IL-13 to inhibit its effects on airway inflammation and hyperresponsiveness. We also provide data on the specificity and sensitivity of Respilimab for IL-13, as well as potential off-target effects.\n",
      "\n",
      "**Biomarker Assessment:**\n",
      "\n",
      "We include clinical and laboratory biomarkers associated with asthma severity, such as eosinophil count and fractional exhaled nitric oxide (FeNO). These biomarkers predict response to treatment and assess disease activity. Our data demonstrate the utility of these biomarkers in monitoring treatment response and adjusting dosing regimens.\n",
      "\n",
      "**Endpoint Alignment:**\n",
      "\n",
      "Our proposed label includes a comprehensive set of endpoints that capture aspects of asthma pathology, including airway inflammation, hyperresponsiveness, and quality-of-life measures (e.g., Asthma Control Test). These endpoints provide a more complete understanding of disease activity and the effectiveness of Respilimab in addressing unmet needs.\n",
      "\n",
      "**Safety:**\n",
      "\n",
      "We have conducted safety trials in diverse patient populations to assess tolerability and potential risks. Our data demonstrate the acceptable safety profile of Respilimab, including pharmacokinetic information on distribution, metabolism, and excretion.\n",
      "\n",
      "By incorporating these changes, we provide a more comprehensive understanding of Respilimab's benefits and risks, and strengthen our submission for FDA label approval.\n",
      "grade:\n",
      "pass\n"
     ]
    }
   ],
   "source": [
    "print(\"Initial review:\")\n",
    "print(state[\"risk_assessment_and_rating\"])\n",
    "print(\"\\n--- --- ---\\n\")\n",
    "if \"proposal_feedback\" in state:\n",
    "    print(\"proposal_feedback:\")\n",
    "    print(state[\"proposal_feedback\"])\n",
    "    print(\"\\n--- --- ---\\n\")\n",
    "\n",
    "    print(\"improved_proposal:\")\n",
    "    print(state[\"improved_proposal\"])\n",
    "    print(\"grade:\")\n",
    "    print(state[\"pass_or_fail\"])\n",
    "else:\n",
    "    print(\"Proposal failed quality gate - lower than 5 threshold!\")\n",
    "    \n",
    "    "
   ]
  }
 ],
 "metadata": {
  "kernelspec": {
   "display_name": "rragent-reet",
   "language": "python",
   "name": "python3"
  },
  "language_info": {
   "codemirror_mode": {
    "name": "ipython",
    "version": 3
   },
   "file_extension": ".py",
   "mimetype": "text/x-python",
   "name": "python",
   "nbconvert_exporter": "python",
   "pygments_lexer": "ipython3",
   "version": "3.11.11"
  }
 },
 "nbformat": 4,
 "nbformat_minor": 2
}
