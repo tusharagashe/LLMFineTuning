{
 "cells": [
  {
   "cell_type": "code",
   "execution_count": 2,
   "id": "95ff2b85",
   "metadata": {},
   "outputs": [
    {
     "name": "stdout",
     "output_type": "stream",
     "text": [
      "['risk_chunks', 'sba_1c_database_chunks']\n"
     ]
    }
   ],
   "source": [
    "from pymilvus import MilvusClient\n",
    "client = MilvusClient(uri=\"db/sba_1c_database_milvus.db\", local=True)\n",
    "print(client.list_collections())"
   ]
  },
  {
   "cell_type": "code",
   "execution_count": 3,
   "id": "6a95cdbf",
   "metadata": {},
   "outputs": [
    {
     "name": "stdout",
     "output_type": "stream",
     "text": [
      "['risk_chunks', 'tanezumab_chunks']\n"
     ]
    }
   ],
   "source": [
    "from pymilvus import MilvusClient\n",
    "client = MilvusClient(uri=\"db/tanezumab_milvus.db\", local=True)\n",
    "print(client.list_collections())"
   ]
  },
  {
   "cell_type": "code",
   "execution_count": null,
   "id": "2e4812b3",
   "metadata": {},
   "outputs": [],
   "source": []
  }
 ],
 "metadata": {
  "kernelspec": {
   "display_name": "llmfinetuning",
   "language": "python",
   "name": "python3"
  },
  "language_info": {
   "codemirror_mode": {
    "name": "ipython",
    "version": 3
   },
   "file_extension": ".py",
   "mimetype": "text/x-python",
   "name": "python",
   "nbconvert_exporter": "python",
   "pygments_lexer": "ipython3",
   "version": "3.11.0"
  }
 },
 "nbformat": 4,
 "nbformat_minor": 5
}
